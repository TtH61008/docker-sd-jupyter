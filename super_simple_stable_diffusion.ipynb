{
 "cells": [
  {
   "cell_type": "markdown",
   "metadata": {
    "id": "Mn4TYBCzPTE_"
   },
   "source": [
    "# SSSD, Super Simple Stable Diffusion\n",
    "\n",
    "Lightwaight easy to use Stable Diffusion Kit.\n",
    "Just run all cells. Only you need is [Hugging Face's user setting page](https://huggingface.co/settings/tokens).\n",
    "\n",
    "## LICENSE\n",
    "[Stable Diffusion](https://github.com/CompVis/stable-diffusion/blob/main/LICENSE)\n",
    "\n",
    "[Diffuser](https://github.com/huggingface/diffusers/blob/main/LICENSE)"
   ]
  },
  {
   "cell_type": "markdown",
   "metadata": {
    "id": "1mMT_G5RPYUq"
   },
   "source": [
    "## Setup Google Drive (If needed)"
   ]
  },
  {
   "cell_type": "code",
   "execution_count": null,
   "metadata": {
    "id": "Vi17DORD9533"
   },
   "outputs": [],
   "source": [
    "#Mount Google Drive\n",
    "from google.colab import drive\n",
    "drive.mount('/content/drive')"
   ]
  },
  {
   "cell_type": "markdown",
   "metadata": {
    "id": "_hbawQKHpkrr"
   },
   "source": [
    "## Install Library"
   ]
  },
  {
   "cell_type": "code",
   "execution_count": 2,
   "metadata": {
    "colab": {
     "base_uri": "https://localhost:8080/"
    },
    "executionInfo": {
     "elapsed": 4225,
     "status": "ok",
     "timestamp": 1665377917643,
     "user": {
      "displayName": "M I",
      "userId": "13599803303708223691"
     },
     "user_tz": -540
    },
    "id": "pyoxzbMxnBex",
    "outputId": "b29cb2b0-46ad-42ee-c702-d6e98e60ec38"
   },
   "outputs": [
    {
     "name": "stdout",
     "output_type": "stream",
     "text": [
      "Looking in indexes: https://pypi.org/simple, https://us-python.pkg.dev/colab-wheels/public/simple/\n",
      "Requirement already satisfied: diffusers==0.4.0 in /usr/local/lib/python3.7/dist-packages (0.4.0)\n",
      "Requirement already satisfied: transformers in /usr/local/lib/python3.7/dist-packages (4.22.2)\n",
      "Requirement already satisfied: scipy in /usr/local/lib/python3.7/dist-packages (1.7.3)\n",
      "Requirement already satisfied: ftfy in /usr/local/lib/python3.7/dist-packages (6.1.1)\n",
      "Requirement already satisfied: numpy in /usr/local/lib/python3.7/dist-packages (from diffusers==0.4.0) (1.21.6)\n",
      "Requirement already satisfied: requests in /usr/local/lib/python3.7/dist-packages (from diffusers==0.4.0) (2.23.0)\n",
      "Requirement already satisfied: huggingface-hub>=0.10.0 in /usr/local/lib/python3.7/dist-packages (from diffusers==0.4.0) (0.10.0)\n",
      "Requirement already satisfied: filelock in /usr/local/lib/python3.7/dist-packages (from diffusers==0.4.0) (3.8.0)\n",
      "Requirement already satisfied: Pillow<10.0 in /usr/local/lib/python3.7/dist-packages (from diffusers==0.4.0) (7.1.2)\n",
      "Requirement already satisfied: torch>=1.4 in /usr/local/lib/python3.7/dist-packages (from diffusers==0.4.0) (1.12.1+cu113)\n",
      "Requirement already satisfied: regex!=2019.12.17 in /usr/local/lib/python3.7/dist-packages (from diffusers==0.4.0) (2022.6.2)\n",
      "Requirement already satisfied: importlib-metadata in /usr/local/lib/python3.7/dist-packages (from diffusers==0.4.0) (5.0.0)\n",
      "Requirement already satisfied: typing-extensions>=3.7.4.3 in /usr/local/lib/python3.7/dist-packages (from huggingface-hub>=0.10.0->diffusers==0.4.0) (4.1.1)\n",
      "Requirement already satisfied: packaging>=20.9 in /usr/local/lib/python3.7/dist-packages (from huggingface-hub>=0.10.0->diffusers==0.4.0) (21.3)\n",
      "Requirement already satisfied: pyyaml>=5.1 in /usr/local/lib/python3.7/dist-packages (from huggingface-hub>=0.10.0->diffusers==0.4.0) (6.0)\n",
      "Requirement already satisfied: tqdm in /usr/local/lib/python3.7/dist-packages (from huggingface-hub>=0.10.0->diffusers==0.4.0) (4.64.1)\n",
      "Requirement already satisfied: pyparsing!=3.0.5,>=2.0.2 in /usr/local/lib/python3.7/dist-packages (from packaging>=20.9->huggingface-hub>=0.10.0->diffusers==0.4.0) (3.0.9)\n",
      "Requirement already satisfied: tokenizers!=0.11.3,<0.13,>=0.11.1 in /usr/local/lib/python3.7/dist-packages (from transformers) (0.12.1)\n",
      "Requirement already satisfied: wcwidth>=0.2.5 in /usr/local/lib/python3.7/dist-packages (from ftfy) (0.2.5)\n",
      "Requirement already satisfied: zipp>=0.5 in /usr/local/lib/python3.7/dist-packages (from importlib-metadata->diffusers==0.4.0) (3.8.1)\n",
      "Requirement already satisfied: certifi>=2017.4.17 in /usr/local/lib/python3.7/dist-packages (from requests->diffusers==0.4.0) (2022.9.24)\n",
      "Requirement already satisfied: chardet<4,>=3.0.2 in /usr/local/lib/python3.7/dist-packages (from requests->diffusers==0.4.0) (3.0.4)\n",
      "Requirement already satisfied: urllib3!=1.25.0,!=1.25.1,<1.26,>=1.21.1 in /usr/local/lib/python3.7/dist-packages (from requests->diffusers==0.4.0) (1.24.3)\n",
      "Requirement already satisfied: idna<3,>=2.5 in /usr/local/lib/python3.7/dist-packages (from requests->diffusers==0.4.0) (2.10)\n"
     ]
    }
   ],
   "source": [
    "#Install Lib\n",
    "!pip install diffusers==0.4.0 transformers scipy ftfy\n"
   ]
  },
  {
   "cell_type": "markdown",
   "metadata": {
    "id": "seJw39zMpflA"
   },
   "source": [
    "## Login to Hugging Face\n",
    "\n",
    "Get ACCESS TOKEN from [Hugging Face's user setting page](https://huggingface.co/settings/tokens).\n",
    "\n",
    "Run a cell below and fill ACCESS TOKEN (read) into the login form."
   ]
  },
  {
   "cell_type": "code",
   "execution_count": 1,
   "metadata": {},
   "outputs": [],
   "source": [
    "\n",
    "from google.colab import output\n",
    "output.enable_custom_widget_manager()"
   ]
  },
  {
   "cell_type": "code",
   "execution_count": 3,
   "metadata": {
    "colab": {
     "base_uri": "https://localhost:8080/",
     "height": 299,
     "referenced_widgets": [
      "178534f6866e41eeab607cc441a6a3bb",
      "f5122b3f20884e24a5a7dfe1371a2edb",
      "fd6e0f5af477413a86dc98e43ec84a0e",
      "17a62e08b26d43c281f0d8cd1006a3cf",
      "1e85b074e0a54b16af15ca40e43805a2",
      "bf5a320db6b5439ea448d2b32168e93f",
      "6e141bf3c25545e39d01bd50b0da660d",
      "69bdacce34bf423185ab22f805ec63cb",
      "e7f0804b729b4b34b826a2760c5d40d7",
      "8dadb9fa629f4310bb56a3c3f48ab09d",
      "47d4e5f5edf34d0ba600ddabd75a84d9",
      "b29c0d97e5c14f3ba3222df9d50dade2",
      "5d93af5c1e6b4df2805334959ce627a9",
      "5408e176fff84d57a103b9f147e4540a"
     ]
    },
    "id": "aLzcV9IKnoZV",
    "outputId": "f5b4d97b-5d42-4267-ab62-d87671eb5c4e"
   },
   "outputs": [
    {
     "data": {
      "application/vnd.jupyter.widget-view+json": {
       "model_id": "06b91a6aa2294a46892a1dc9f97ce67a",
       "version_major": 2,
       "version_minor": 0
      },
      "text/plain": [
       "VBox(children=(HTML(value='<center> <img\\nsrc=https://huggingface.co/front/assets/huggingface_logo-noborder.sv…"
      ]
     },
     "metadata": {
      "application/vnd.jupyter.widget-view+json": {
       "colab": {
        "custom_widget_manager": {
         "url": "https://ssl.gstatic.com/colaboratory-static/widgets/colab-cdn-widget-manager/d2e234f7cc04bf79/manager.min.js"
        }
       }
      }
     },
     "output_type": "display_data"
    }
   ],
   "source": [
    "#Get access token from Hugging Face\n",
    "from huggingface_hub import notebook_login\n",
    "notebook_login()"
   ]
  },
  {
   "cell_type": "markdown",
   "metadata": {
    "id": "WYkj7P6kz98Y"
   },
   "source": [
    "## Function Setup"
   ]
  },
  {
   "cell_type": "code",
   "execution_count": null,
   "metadata": {
    "id": "PF_WVK8jnjkp"
   },
   "outputs": [],
   "source": [
    "import torch\n",
    "from diffusers import StableDiffusionPipeline\n",
    "from diffusers import StableDiffusionImg2ImgPipeline\n",
    "import numpy as np\n",
    "import PIL\n",
    "import gc\n",
    "import os\n",
    "\n",
    "def save_image(directory_path, file_name, img):\n",
    "  os.makedirs(directory_path, exist_ok = True)\n",
    "  img.save(f\"{directory_path}/{file_name}\")\n",
    "\n",
    "\n",
    "\n",
    "def clear_memory():\n",
    "  gc.collect()\n",
    "  torch.cuda.empty_cache()\n",
    "\n",
    "\n",
    "\n",
    "def get_txt2img_pipeline(model_path = \"CompVis/stable-diffusion-v1-4\"):\n",
    "  pipeline = StableDiffusionPipeline.from_pretrained(model_path, \n",
    "                                                    #  revision=\"fp16\", \n",
    "                                                     torch_dtype=torch.float16,\n",
    "                                                     use_auth_token=True)\n",
    "  pipeline.to(\"cuda\")\n",
    "  pipeline.enable_attention_slicing()\n",
    "  return pipeline\n",
    "\n",
    "\n",
    "\n",
    "\n",
    "def get_img2img_pipeline(model_path = \"CompVis/stable-diffusion-v1-4\"):\n",
    "  pipeline = StableDiffusionImg2ImgPipeline.from_pretrained(model_path, \n",
    "                                                            # revision=\"fp16\", \n",
    "                                                            torch_dtype=torch.float16,\n",
    "                                                            use_auth_token=True)\n",
    "  pipeline.to(\"cuda\")\n",
    "  pipeline.enable_attention_slicing()\n",
    "  return pipeline\n",
    "\n",
    "pipe = None\n",
    "last_model_path = None"
   ]
  },
  {
   "cell_type": "markdown",
   "metadata": {
    "id": "-TGcoo26z5IY"
   },
   "source": [
    "# Diffuse!!!\n",
    "\n",
    "Once you setup, just run only this cell"
   ]
  },
  {
   "cell_type": "code",
   "execution_count": null,
   "metadata": {
    "id": "OZI3YNWWHIKP"
   },
   "outputs": [],
   "source": [
    "from torch import autocast\n",
    "from datetime import datetime\n",
    "import random\n",
    "\n",
    "#@markdown ## General Settings\n",
    "prompt = \"Super beautiful landscape painting of city in the forest in the style of Rembrandt, dramatic composition.\" #@param {type:\"string\"}\n",
    "negative_prompt = \"\" #@param {type:\"string\"}\n",
    "width = 512 #@param {type:\"integer\"}\n",
    "height = 512 #@param {type:\"integer\"}\n",
    "\n",
    "guidance_scale = 7.5 #@param {type:\"number\"}\n",
    "num_inference_steps = 50 #@param {type:\"number\"}\n",
    "seed = None #@param\n",
    "num = 3 #@param {type:\"integer\"}\n",
    "\n",
    "#@markdown -\n",
    "#@markdown ## Init Image settings\n",
    "#@markdown File path used for base Image. \n",
    "init_image = \"\" #@param {type:\"string\"}\n",
    "strength = 0.8 #@param {type:\"number\"}\n",
    "\n",
    "#@markdown -\n",
    "#@markdown ## Model Settings\n",
    "#@markdown Select your model or input your model path\n",
    "\n",
    "model_path = \"CompVis/stable-diffusion-v1-4\" #@param {type:\"string\"} [\"CompVis/stable-diffusion-v1-4\", \"rinna/japanese-stable-diffusion\", \"doohickey/trinart-waifu-diffusion-50-50\", \"sd-dreambooth-library/disco-diffusion-style\", \"hakurei/waifu-diffusion\"] {allow-input: true}\n",
    "\n",
    "#@markdown -\n",
    "#@markdown ## Export Settings\n",
    "\n",
    "save_directory_path = \"/content/output/test\" #@param {type:\"string\"}\n",
    "save_file_prefix = \"SD\" #@param {type:\"string\"}\n",
    "is_save_image = True #@param {type:\"boolean\"}\n",
    "is_display_image = True #@param {type:\"boolean\"}\n",
    "\n",
    "clear_memory()\n",
    "\n",
    "with autocast(\"cuda\"):\n",
    "  for index in range(num):\n",
    "    _seed = random.randint(0, 2**32) if seed == None else seed\n",
    "    generator = torch.Generator(\"cuda\").manual_seed(_seed)\n",
    "\n",
    "    if init_image != None and init_image != \"\" :\n",
    "      if pipe == None or type(pipe) != StableDiffusionImg2ImgPipeline or model_path != last_model_path:\n",
    "        pipe = get_img2img_pipeline(model_path)\n",
    "        last_model_path = model_path\n",
    "      image = pipe(\n",
    "          init_image = init_image,\n",
    "          prompt = prompt,\n",
    "          negative_prompt = negative_prompt,\n",
    "          width = width,\n",
    "          height = height,\n",
    "          strength = strength,\n",
    "          guidance_scale = guidance_scale,\n",
    "          num_inference_steps = num_inference_steps,\n",
    "          generator = generator\n",
    "      )[\"sample\"][0]\n",
    "    else:\n",
    "      if pipe == None or type(pipe) != StableDiffusionPipeline or model_path != last_model_path:\n",
    "        pipe = get_txt2img_pipeline(model_path)\n",
    "        last_model_path = model_path\n",
    "      image = pipe(\n",
    "          prompt = prompt,\n",
    "          negative_prompt = negative_prompt,\n",
    "          width = width,\n",
    "          height = height,\n",
    "          strength = strength,\n",
    "          guidance_scale = guidance_scale,\n",
    "          num_inference_steps = num_inference_steps,\n",
    "          generator = generator\n",
    "      )[\"sample\"][0]\n",
    "\n",
    "    if is_display_image == True:\n",
    "      display(image)\n",
    "\n",
    "    if is_save_image == True:\n",
    "      file_id = datetime.today().strftime('%Y-%m-%d-%H-%M-%S')\n",
    "      save_image(save_directory_path, f\"{save_file_prefix}-{file_id}.png\", image)\n",
    "\n"
   ]
  },
  {
   "cell_type": "markdown",
   "metadata": {
    "id": "yeemCWQkJZ6L"
   },
   "source": [
    "# Cheat Sheet\n",
    "\n"
   ]
  },
  {
   "cell_type": "markdown",
   "metadata": {
    "id": "UqvXgM8LnHY4"
   },
   "source": [
    "## Prompt for beginners\n",
    "\n",
    "\n",
    "```\n",
    "<MEDIUM> of <THEME> by <ARTIST> in the style of <STYLE>, <MODIFIER>, <MODIFIER>\n",
    "```\n",
    "\n",
    "```\n",
    "Oil painting of landscape by Rembrandt in the style of impressionism, high quality, masterpiece\n",
    "```"
   ]
  },
  {
   "cell_type": "markdown",
   "metadata": {
    "id": "tDhq6CBBm7VM"
   },
   "source": [
    "## Style\n",
    "* Ancient Egyptian Art\n",
    "* Ancient Greek Art\n",
    "* Byzantine Art\n",
    "* Gothic\n",
    "* Medieval Art\n",
    "* Renaissance\n",
    "* Mannerism\n",
    "* High Renaissance\n",
    "* Baroque\n",
    "* Rococo\n",
    "* Classicism\n",
    "* Neo Classicism\n",
    "* Academicism\n",
    "* Romanticism\n",
    "* Orientalism\n",
    "* Realism\n",
    "* Primitivism\n",
    "* Surrealism\n",
    "* Impressionism\n",
    "* Symbolism\n",
    "* Pointillism\n",
    "* Abstract Art\n",
    "* Japonism\n",
    "* Art Deco\n",
    "* Fauvism\n",
    "* Art Nouveau\n",
    "* Expressionism\n",
    "* Cubism\n",
    "* Futurism\n",
    "* Dada\n",
    "* Constructivism\n",
    "* Outsider art\n",
    "* Concretism\n",
    "* Neo Expressionism\n",
    "* Pop Art\n",
    "* Modernism\n",
    "* Minimalism\n",
    "* Photorealism\n",
    "* Hyper-Realism"
   ]
  },
  {
   "cell_type": "markdown",
   "metadata": {
    "id": "DFkpvIbRnAmr"
   },
   "source": [
    "## Artist\n",
    "* Rembrandt\n"
   ]
  },
  {
   "cell_type": "markdown",
   "metadata": {
    "id": "0Sr7nyfomuRY"
   },
   "source": [
    "## Modifier\n",
    "* Masterpiece of\n",
    "* High quality\n",
    "* Photorealistic\n",
    "* Unrealengine\n",
    "* Octane Render\n",
    "* 8k\n",
    "* Insane detailing\n",
    "* Epic"
   ]
  }
 ],
 "metadata": {
  "accelerator": "GPU",
  "colab": {
   "collapsed_sections": [
    "1mMT_G5RPYUq"
   ],
   "provenance": [
    {
     "file_id": "https://github.com/fladdict/stable-diffusion/blob/main/super_simple_stable_diffusion.ipynb",
     "timestamp": 1665323251411
    }
   ]
  },
  "gpuClass": "standard",
  "kernelspec": {
   "display_name": "Python 3",
   "language": "python",
   "name": "python3"
  },
  "language_info": {
   "codemirror_mode": {
    "name": "ipython",
    "version": 3
   },
   "file_extension": ".py",
   "mimetype": "text/x-python",
   "name": "python",
   "nbconvert_exporter": "python",
   "pygments_lexer": "ipython3",
   "version": "3.7.13"
  },
  "widgets": {
   "application/vnd.jupyter.widget-state+json": {
    "178534f6866e41eeab607cc441a6a3bb": {
     "model_module": "@jupyter-widgets/controls",
     "model_module_version": "1.5.0",
     "model_name": "VBoxModel",
     "state": {
      "_dom_classes": [],
      "_model_module": "@jupyter-widgets/controls",
      "_model_module_version": "1.5.0",
      "_model_name": "VBoxModel",
      "_view_count": null,
      "_view_module": "@jupyter-widgets/controls",
      "_view_module_version": "1.5.0",
      "_view_name": "VBoxView",
      "box_style": "",
      "children": [
       "IPY_MODEL_f5122b3f20884e24a5a7dfe1371a2edb",
       "IPY_MODEL_fd6e0f5af477413a86dc98e43ec84a0e",
       "IPY_MODEL_17a62e08b26d43c281f0d8cd1006a3cf",
       "IPY_MODEL_1e85b074e0a54b16af15ca40e43805a2"
      ],
      "layout": "IPY_MODEL_bf5a320db6b5439ea448d2b32168e93f"
     }
    },
    "17a62e08b26d43c281f0d8cd1006a3cf": {
     "model_module": "@jupyter-widgets/controls",
     "model_module_version": "1.5.0",
     "model_name": "ButtonModel",
     "state": {
      "_dom_classes": [],
      "_model_module": "@jupyter-widgets/controls",
      "_model_module_version": "1.5.0",
      "_model_name": "ButtonModel",
      "_view_count": null,
      "_view_module": "@jupyter-widgets/controls",
      "_view_module_version": "1.5.0",
      "_view_name": "ButtonView",
      "button_style": "",
      "description": "Login",
      "disabled": false,
      "icon": "",
      "layout": "IPY_MODEL_47d4e5f5edf34d0ba600ddabd75a84d9",
      "style": "IPY_MODEL_b29c0d97e5c14f3ba3222df9d50dade2",
      "tooltip": ""
     }
    },
    "1e85b074e0a54b16af15ca40e43805a2": {
     "model_module": "@jupyter-widgets/controls",
     "model_module_version": "1.5.0",
     "model_name": "HTMLModel",
     "state": {
      "_dom_classes": [],
      "_model_module": "@jupyter-widgets/controls",
      "_model_module_version": "1.5.0",
      "_model_name": "HTMLModel",
      "_view_count": null,
      "_view_module": "@jupyter-widgets/controls",
      "_view_module_version": "1.5.0",
      "_view_name": "HTMLView",
      "description": "",
      "description_tooltip": null,
      "layout": "IPY_MODEL_5d93af5c1e6b4df2805334959ce627a9",
      "placeholder": "​",
      "style": "IPY_MODEL_5408e176fff84d57a103b9f147e4540a",
      "value": "\n<b>Pro Tip:</b> If you don't already have one, you can create a dedicated\n'notebooks' token with 'write' access, that you can then easily reuse for all\nnotebooks. </center>"
     }
    },
    "47d4e5f5edf34d0ba600ddabd75a84d9": {
     "model_module": "@jupyter-widgets/base",
     "model_module_version": "1.2.0",
     "model_name": "LayoutModel",
     "state": {
      "_model_module": "@jupyter-widgets/base",
      "_model_module_version": "1.2.0",
      "_model_name": "LayoutModel",
      "_view_count": null,
      "_view_module": "@jupyter-widgets/base",
      "_view_module_version": "1.2.0",
      "_view_name": "LayoutView",
      "align_content": null,
      "align_items": null,
      "align_self": null,
      "border": null,
      "bottom": null,
      "display": null,
      "flex": null,
      "flex_flow": null,
      "grid_area": null,
      "grid_auto_columns": null,
      "grid_auto_flow": null,
      "grid_auto_rows": null,
      "grid_column": null,
      "grid_gap": null,
      "grid_row": null,
      "grid_template_areas": null,
      "grid_template_columns": null,
      "grid_template_rows": null,
      "height": null,
      "justify_content": null,
      "justify_items": null,
      "left": null,
      "margin": null,
      "max_height": null,
      "max_width": null,
      "min_height": null,
      "min_width": null,
      "object_fit": null,
      "object_position": null,
      "order": null,
      "overflow": null,
      "overflow_x": null,
      "overflow_y": null,
      "padding": null,
      "right": null,
      "top": null,
      "visibility": null,
      "width": null
     }
    },
    "5408e176fff84d57a103b9f147e4540a": {
     "model_module": "@jupyter-widgets/controls",
     "model_module_version": "1.5.0",
     "model_name": "DescriptionStyleModel",
     "state": {
      "_model_module": "@jupyter-widgets/controls",
      "_model_module_version": "1.5.0",
      "_model_name": "DescriptionStyleModel",
      "_view_count": null,
      "_view_module": "@jupyter-widgets/base",
      "_view_module_version": "1.2.0",
      "_view_name": "StyleView",
      "description_width": ""
     }
    },
    "5d93af5c1e6b4df2805334959ce627a9": {
     "model_module": "@jupyter-widgets/base",
     "model_module_version": "1.2.0",
     "model_name": "LayoutModel",
     "state": {
      "_model_module": "@jupyter-widgets/base",
      "_model_module_version": "1.2.0",
      "_model_name": "LayoutModel",
      "_view_count": null,
      "_view_module": "@jupyter-widgets/base",
      "_view_module_version": "1.2.0",
      "_view_name": "LayoutView",
      "align_content": null,
      "align_items": null,
      "align_self": null,
      "border": null,
      "bottom": null,
      "display": null,
      "flex": null,
      "flex_flow": null,
      "grid_area": null,
      "grid_auto_columns": null,
      "grid_auto_flow": null,
      "grid_auto_rows": null,
      "grid_column": null,
      "grid_gap": null,
      "grid_row": null,
      "grid_template_areas": null,
      "grid_template_columns": null,
      "grid_template_rows": null,
      "height": null,
      "justify_content": null,
      "justify_items": null,
      "left": null,
      "margin": null,
      "max_height": null,
      "max_width": null,
      "min_height": null,
      "min_width": null,
      "object_fit": null,
      "object_position": null,
      "order": null,
      "overflow": null,
      "overflow_x": null,
      "overflow_y": null,
      "padding": null,
      "right": null,
      "top": null,
      "visibility": null,
      "width": null
     }
    },
    "69bdacce34bf423185ab22f805ec63cb": {
     "model_module": "@jupyter-widgets/controls",
     "model_module_version": "1.5.0",
     "model_name": "DescriptionStyleModel",
     "state": {
      "_model_module": "@jupyter-widgets/controls",
      "_model_module_version": "1.5.0",
      "_model_name": "DescriptionStyleModel",
      "_view_count": null,
      "_view_module": "@jupyter-widgets/base",
      "_view_module_version": "1.2.0",
      "_view_name": "StyleView",
      "description_width": ""
     }
    },
    "6e141bf3c25545e39d01bd50b0da660d": {
     "model_module": "@jupyter-widgets/base",
     "model_module_version": "1.2.0",
     "model_name": "LayoutModel",
     "state": {
      "_model_module": "@jupyter-widgets/base",
      "_model_module_version": "1.2.0",
      "_model_name": "LayoutModel",
      "_view_count": null,
      "_view_module": "@jupyter-widgets/base",
      "_view_module_version": "1.2.0",
      "_view_name": "LayoutView",
      "align_content": null,
      "align_items": null,
      "align_self": null,
      "border": null,
      "bottom": null,
      "display": null,
      "flex": null,
      "flex_flow": null,
      "grid_area": null,
      "grid_auto_columns": null,
      "grid_auto_flow": null,
      "grid_auto_rows": null,
      "grid_column": null,
      "grid_gap": null,
      "grid_row": null,
      "grid_template_areas": null,
      "grid_template_columns": null,
      "grid_template_rows": null,
      "height": null,
      "justify_content": null,
      "justify_items": null,
      "left": null,
      "margin": null,
      "max_height": null,
      "max_width": null,
      "min_height": null,
      "min_width": null,
      "object_fit": null,
      "object_position": null,
      "order": null,
      "overflow": null,
      "overflow_x": null,
      "overflow_y": null,
      "padding": null,
      "right": null,
      "top": null,
      "visibility": null,
      "width": null
     }
    },
    "8dadb9fa629f4310bb56a3c3f48ab09d": {
     "model_module": "@jupyter-widgets/controls",
     "model_module_version": "1.5.0",
     "model_name": "DescriptionStyleModel",
     "state": {
      "_model_module": "@jupyter-widgets/controls",
      "_model_module_version": "1.5.0",
      "_model_name": "DescriptionStyleModel",
      "_view_count": null,
      "_view_module": "@jupyter-widgets/base",
      "_view_module_version": "1.2.0",
      "_view_name": "StyleView",
      "description_width": ""
     }
    },
    "b29c0d97e5c14f3ba3222df9d50dade2": {
     "model_module": "@jupyter-widgets/controls",
     "model_module_version": "1.5.0",
     "model_name": "ButtonStyleModel",
     "state": {
      "_model_module": "@jupyter-widgets/controls",
      "_model_module_version": "1.5.0",
      "_model_name": "ButtonStyleModel",
      "_view_count": null,
      "_view_module": "@jupyter-widgets/base",
      "_view_module_version": "1.2.0",
      "_view_name": "StyleView",
      "button_color": null,
      "font_weight": ""
     }
    },
    "bf5a320db6b5439ea448d2b32168e93f": {
     "model_module": "@jupyter-widgets/base",
     "model_module_version": "1.2.0",
     "model_name": "LayoutModel",
     "state": {
      "_model_module": "@jupyter-widgets/base",
      "_model_module_version": "1.2.0",
      "_model_name": "LayoutModel",
      "_view_count": null,
      "_view_module": "@jupyter-widgets/base",
      "_view_module_version": "1.2.0",
      "_view_name": "LayoutView",
      "align_content": null,
      "align_items": "center",
      "align_self": null,
      "border": null,
      "bottom": null,
      "display": "flex",
      "flex": null,
      "flex_flow": "column",
      "grid_area": null,
      "grid_auto_columns": null,
      "grid_auto_flow": null,
      "grid_auto_rows": null,
      "grid_column": null,
      "grid_gap": null,
      "grid_row": null,
      "grid_template_areas": null,
      "grid_template_columns": null,
      "grid_template_rows": null,
      "height": null,
      "justify_content": null,
      "justify_items": null,
      "left": null,
      "margin": null,
      "max_height": null,
      "max_width": null,
      "min_height": null,
      "min_width": null,
      "object_fit": null,
      "object_position": null,
      "order": null,
      "overflow": null,
      "overflow_x": null,
      "overflow_y": null,
      "padding": null,
      "right": null,
      "top": null,
      "visibility": null,
      "width": "50%"
     }
    },
    "e7f0804b729b4b34b826a2760c5d40d7": {
     "model_module": "@jupyter-widgets/base",
     "model_module_version": "1.2.0",
     "model_name": "LayoutModel",
     "state": {
      "_model_module": "@jupyter-widgets/base",
      "_model_module_version": "1.2.0",
      "_model_name": "LayoutModel",
      "_view_count": null,
      "_view_module": "@jupyter-widgets/base",
      "_view_module_version": "1.2.0",
      "_view_name": "LayoutView",
      "align_content": null,
      "align_items": null,
      "align_self": null,
      "border": null,
      "bottom": null,
      "display": null,
      "flex": null,
      "flex_flow": null,
      "grid_area": null,
      "grid_auto_columns": null,
      "grid_auto_flow": null,
      "grid_auto_rows": null,
      "grid_column": null,
      "grid_gap": null,
      "grid_row": null,
      "grid_template_areas": null,
      "grid_template_columns": null,
      "grid_template_rows": null,
      "height": null,
      "justify_content": null,
      "justify_items": null,
      "left": null,
      "margin": null,
      "max_height": null,
      "max_width": null,
      "min_height": null,
      "min_width": null,
      "object_fit": null,
      "object_position": null,
      "order": null,
      "overflow": null,
      "overflow_x": null,
      "overflow_y": null,
      "padding": null,
      "right": null,
      "top": null,
      "visibility": null,
      "width": null
     }
    },
    "f5122b3f20884e24a5a7dfe1371a2edb": {
     "model_module": "@jupyter-widgets/controls",
     "model_module_version": "1.5.0",
     "model_name": "HTMLModel",
     "state": {
      "_dom_classes": [],
      "_model_module": "@jupyter-widgets/controls",
      "_model_module_version": "1.5.0",
      "_model_name": "HTMLModel",
      "_view_count": null,
      "_view_module": "@jupyter-widgets/controls",
      "_view_module_version": "1.5.0",
      "_view_name": "HTMLView",
      "description": "",
      "description_tooltip": null,
      "layout": "IPY_MODEL_6e141bf3c25545e39d01bd50b0da660d",
      "placeholder": "​",
      "style": "IPY_MODEL_69bdacce34bf423185ab22f805ec63cb",
      "value": "<center> <img\nsrc=https://huggingface.co/front/assets/huggingface_logo-noborder.svg\nalt='Hugging Face'> <br> Copy a token from <a\nhref=\"https://huggingface.co/settings/tokens\" target=\"_blank\">your Hugging Face\ntokens page</a> and paste it below. <br> Immediately click login after copying\nyour token or it might be stored in plain text in this notebook file. </center>"
     }
    },
    "fd6e0f5af477413a86dc98e43ec84a0e": {
     "model_module": "@jupyter-widgets/controls",
     "model_module_version": "1.5.0",
     "model_name": "PasswordModel",
     "state": {
      "_dom_classes": [],
      "_model_module": "@jupyter-widgets/controls",
      "_model_module_version": "1.5.0",
      "_model_name": "PasswordModel",
      "_view_count": null,
      "_view_module": "@jupyter-widgets/controls",
      "_view_module_version": "1.5.0",
      "_view_name": "PasswordView",
      "continuous_update": true,
      "description": "Token:",
      "description_tooltip": null,
      "disabled": false,
      "layout": "IPY_MODEL_e7f0804b729b4b34b826a2760c5d40d7",
      "placeholder": "​",
      "style": "IPY_MODEL_8dadb9fa629f4310bb56a3c3f48ab09d",
      "value": ""
     }
    }
   }
  }
 },
 "nbformat": 4,
 "nbformat_minor": 4
}
